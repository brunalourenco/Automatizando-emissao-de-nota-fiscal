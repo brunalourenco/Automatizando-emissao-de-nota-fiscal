{
 "cells": [
  {
   "cell_type": "code",
   "execution_count": 5,
   "id": "68bcf6f8",
   "metadata": {},
   "outputs": [],
   "source": [
    "#imports\n",
    "from selenium import webdriver\n",
    "from selenium.webdriver.chrome.service import Service\n",
    "from webdriver_manager.chrome import ChromeDriverManager\n",
    "from selenium.webdriver.common.by import By\n",
    "import os\n",
    "\n",
    "servico = Service(ChromeDriverManager().install())\n",
    "navegador = webdriver.Chrome()\n"
   ]
  },
  {
   "cell_type": "code",
   "execution_count": 6,
   "id": "07022bd7",
   "metadata": {},
   "outputs": [],
   "source": [
    "# PASSO A PASSO\n",
    "#  abrir login\n",
    "# preencher login e senha\n",
    "# clicar botão de fazer login\n",
    "# importar planilha com dados das notas fiscais\n",
    "\n",
    "# para cada nota\n",
    "# preencher dados de nota fiscal\n",
    "# clicar no botão  emitir nota fiscal"
   ]
  },
  {
   "cell_type": "code",
   "execution_count": 7,
   "id": "0ed3897c",
   "metadata": {},
   "outputs": [],
   "source": [
    "#  abrir login\n",
    "\n",
    "# se fosse da web\n",
    "#navegador.get(\"http://www.google.com.br\")\n",
    "\n",
    "#importando arquivo de pasta do pc\n",
    "import os\n",
    "caminho = os.getcwd()\n",
    "arquivo = caminho + r\"\\login.html \"\n",
    "navegador.get(arquivo)\n"
   ]
  },
  {
   "cell_type": "code",
   "execution_count": 8,
   "id": "2c5f1a7f",
   "metadata": {},
   "outputs": [],
   "source": [
    "# preencher login e senha\n",
    "\n",
    "navegador.find_element(By.XPATH,'/html/body/div/form/input[1]').send_keys('teste@gmail.com')\n",
    "navegador.find_element(By.XPATH, '/html/body/div/form/input[2]').send_keys('12356a')\n",
    "# clicar botão de fazer login\n",
    "navegador.find_element(By.XPATH,'/html/body/div/form/button').click()"
   ]
  },
  {
   "cell_type": "code",
   "execution_count": 9,
   "id": "662f37ae",
   "metadata": {},
   "outputs": [
    {
     "data": {
      "text/html": [
       "<div>\n",
       "<style scoped>\n",
       "    .dataframe tbody tr th:only-of-type {\n",
       "        vertical-align: middle;\n",
       "    }\n",
       "\n",
       "    .dataframe tbody tr th {\n",
       "        vertical-align: top;\n",
       "    }\n",
       "\n",
       "    .dataframe thead th {\n",
       "        text-align: right;\n",
       "    }\n",
       "</style>\n",
       "<table border=\"1\" class=\"dataframe\">\n",
       "  <thead>\n",
       "    <tr style=\"text-align: right;\">\n",
       "      <th></th>\n",
       "      <th>Cliente</th>\n",
       "      <th>CPF/CNPJ</th>\n",
       "      <th>CEP</th>\n",
       "      <th>Endereço</th>\n",
       "      <th>Bairro</th>\n",
       "      <th>Municipio</th>\n",
       "      <th>UF</th>\n",
       "      <th>Inscricao Estadual</th>\n",
       "      <th>Descrição</th>\n",
       "      <th>Quantidade</th>\n",
       "      <th>Valor Unitario</th>\n",
       "      <th>Valor Total</th>\n",
       "    </tr>\n",
       "  </thead>\n",
       "  <tbody>\n",
       "    <tr>\n",
       "      <th>0</th>\n",
       "      <td>Valentina Márcia Melissa da Cunha</td>\n",
       "      <td>25379574076</td>\n",
       "      <td>73402036</td>\n",
       "      <td>Módulo Módulo 12</td>\n",
       "      <td>Estância Mestre D'Armas V (Planaltina)</td>\n",
       "      <td>Brasília</td>\n",
       "      <td>DF</td>\n",
       "      <td>213873</td>\n",
       "      <td>Nota referente aos serviços prestados/produtos...</td>\n",
       "      <td>3</td>\n",
       "      <td>273</td>\n",
       "      <td>819</td>\n",
       "    </tr>\n",
       "    <tr>\n",
       "      <th>1</th>\n",
       "      <td>Lara Benedita Josefa Drumond</td>\n",
       "      <td>30227643160</td>\n",
       "      <td>78730170</td>\n",
       "      <td>Avenida Manoel de Araújo Piau</td>\n",
       "      <td>Jardim Belo Panorama</td>\n",
       "      <td>Rondonópolis</td>\n",
       "      <td>MT</td>\n",
       "      <td>194139</td>\n",
       "      <td>Nota referente aos serviços prestados/produtos...</td>\n",
       "      <td>6</td>\n",
       "      <td>730</td>\n",
       "      <td>4380</td>\n",
       "    </tr>\n",
       "    <tr>\n",
       "      <th>2</th>\n",
       "      <td>Silvana Melissa da Paz</td>\n",
       "      <td>36636402806</td>\n",
       "      <td>69308220</td>\n",
       "      <td>Rua Madre Rosa</td>\n",
       "      <td>Treze de Setembro</td>\n",
       "      <td>Boa Vista</td>\n",
       "      <td>RR</td>\n",
       "      <td>203703</td>\n",
       "      <td>Nota referente aos serviços prestados/produtos...</td>\n",
       "      <td>2</td>\n",
       "      <td>389</td>\n",
       "      <td>778</td>\n",
       "    </tr>\n",
       "  </tbody>\n",
       "</table>\n",
       "</div>"
      ],
      "text/plain": [
       "                             Cliente     CPF/CNPJ       CEP  \\\n",
       "0  Valentina Márcia Melissa da Cunha  25379574076  73402036   \n",
       "1       Lara Benedita Josefa Drumond  30227643160  78730170   \n",
       "2             Silvana Melissa da Paz  36636402806  69308220   \n",
       "\n",
       "                        Endereço                                  Bairro  \\\n",
       "0               Módulo Módulo 12  Estância Mestre D'Armas V (Planaltina)   \n",
       "1  Avenida Manoel de Araújo Piau                    Jardim Belo Panorama   \n",
       "2                 Rua Madre Rosa                       Treze de Setembro   \n",
       "\n",
       "      Municipio  UF  Inscricao Estadual  \\\n",
       "0      Brasília  DF              213873   \n",
       "1  Rondonópolis  MT              194139   \n",
       "2     Boa Vista  RR              203703   \n",
       "\n",
       "                                           Descrição  Quantidade  \\\n",
       "0  Nota referente aos serviços prestados/produtos...           3   \n",
       "1  Nota referente aos serviços prestados/produtos...           6   \n",
       "2  Nota referente aos serviços prestados/produtos...           2   \n",
       "\n",
       "   Valor Unitario  Valor Total  \n",
       "0             273          819  \n",
       "1             730         4380  \n",
       "2             389          778  "
      ]
     },
     "execution_count": 9,
     "metadata": {},
     "output_type": "execute_result"
    }
   ],
   "source": [
    "# importar planilha com dados das notas fiscais\n",
    "import pandas as pd\n",
    "\n",
    "tabela = pd.read_excel(\"NotasEmitir.xlsx\")\n",
    "tabela.head(3)"
   ]
  },
  {
   "cell_type": "code",
   "execution_count": 10,
   "id": "65db1389",
   "metadata": {},
   "outputs": [
    {
     "ename": "InvalidSessionIdException",
     "evalue": "Message: invalid session id: session deleted as the browser has closed the connection\nfrom disconnected: unable to send message to renderer\n  (Session info: chrome=138.0.7204.169)\nStacktrace:\n\tGetHandleVerifier [0x0x7ff6a523e415+77285]\n\tGetHandleVerifier [0x0x7ff6a523e470+77376]\n\t(No symbol) [0x0x7ff6a5009a6a]\n\t(No symbol) [0x0x7ff6a4ff6311]\n\t(No symbol) [0x0x7ff6a4ff627c]\n\t(No symbol) [0x0x7ff6a4ff4a0c]\n\t(No symbol) [0x0x7ff6a4ff5807]\n\t(No symbol) [0x0x7ff6a5018598]\n\t(No symbol) [0x0x7ff6a50a449e]\n\t(No symbol) [0x0x7ff6a5059a47]\n\t(No symbol) [0x0x7ff6a5057867]\n\t(No symbol) [0x0x7ff6a508860a]\n\t(No symbol) [0x0x7ff6a5052d06]\n\t(No symbol) [0x0x7ff6a5088820]\n\t(No symbol) [0x0x7ff6a50b087f]\n\t(No symbol) [0x0x7ff6a50883e3]\n\t(No symbol) [0x0x7ff6a5051521]\n\t(No symbol) [0x0x7ff6a50522b3]\n\tGetHandleVerifier [0x0x7ff6a5521efd+3107021]\n\tGetHandleVerifier [0x0x7ff6a551c29d+3083373]\n\tGetHandleVerifier [0x0x7ff6a553bedd+3213485]\n\tGetHandleVerifier [0x0x7ff6a525884e+184862]\n\tGetHandleVerifier [0x0x7ff6a526055f+216879]\n\tGetHandleVerifier [0x0x7ff6a5247084+113236]\n\tGetHandleVerifier [0x0x7ff6a5247239+113673]\n\tGetHandleVerifier [0x0x7ff6a522e298+11368]\n\tBaseThreadInitThunk [0x0x7ffa2ab97374+20]\n\tRtlUserThreadStart [0x0x7ffa2c55cc91+33]\n",
     "output_type": "error",
     "traceback": [
      "\u001b[31m---------------------------------------------------------------------------\u001b[39m",
      "\u001b[31mInvalidSessionIdException\u001b[39m                 Traceback (most recent call last)",
      "\u001b[36mCell\u001b[39m\u001b[36m \u001b[39m\u001b[32mIn[10]\u001b[39m\u001b[32m, line 11\u001b[39m\n\u001b[32m      8\u001b[39m navegador.find_element(By.NAME,\u001b[33m'\u001b[39m\u001b[33mnome\u001b[39m\u001b[33m'\u001b[39m).send_keys(tabela.loc[linha, \u001b[33m\"\u001b[39m\u001b[33mCliente\u001b[39m\u001b[33m\"\u001b[39m])\n\u001b[32m     10\u001b[39m \u001b[38;5;66;03m# endereco\u001b[39;00m\n\u001b[32m---> \u001b[39m\u001b[32m11\u001b[39m \u001b[43mnavegador\u001b[49m\u001b[43m.\u001b[49m\u001b[43mfind_element\u001b[49m\u001b[43m(\u001b[49m\u001b[43mBy\u001b[49m\u001b[43m.\u001b[49m\u001b[43mNAME\u001b[49m\u001b[43m,\u001b[49m\u001b[33;43m'\u001b[39;49m\u001b[33;43mendereco\u001b[39;49m\u001b[33;43m'\u001b[39;49m\u001b[43m)\u001b[49m\u001b[43m.\u001b[49m\u001b[43msend_keys\u001b[49m\u001b[43m(\u001b[49m\u001b[43mtabela\u001b[49m\u001b[43m.\u001b[49m\u001b[43mloc\u001b[49m\u001b[43m[\u001b[49m\u001b[43mlinha\u001b[49m\u001b[43m,\u001b[49m\u001b[43m \u001b[49m\u001b[33;43m\"\u001b[39;49m\u001b[33;43mEndereço\u001b[39;49m\u001b[33;43m\"\u001b[39;49m\u001b[43m]\u001b[49m\u001b[43m)\u001b[49m\n\u001b[32m     13\u001b[39m \u001b[38;5;66;03m# bairro\u001b[39;00m\n\u001b[32m     14\u001b[39m navegador.find_element(By.NAME,\u001b[33m'\u001b[39m\u001b[33mbairro\u001b[39m\u001b[33m'\u001b[39m).send_keys(tabela.loc[linha, \u001b[33m\"\u001b[39m\u001b[33mBairro\u001b[39m\u001b[33m\"\u001b[39m])\n",
      "\u001b[36mFile \u001b[39m\u001b[32mc:\\Users\\Usuario\\AppData\\Local\\Programs\\Python\\Python312\\Lib\\site-packages\\selenium\\webdriver\\remote\\webelement.py:305\u001b[39m, in \u001b[36mWebElement.send_keys\u001b[39m\u001b[34m(self, *value)\u001b[39m\n\u001b[32m    302\u001b[39m             remote_files.append(\u001b[38;5;28mself\u001b[39m._upload(file))\n\u001b[32m    303\u001b[39m         value = \u001b[38;5;28mtuple\u001b[39m(\u001b[33m\"\u001b[39m\u001b[38;5;130;01m\\n\u001b[39;00m\u001b[33m\"\u001b[39m.join(remote_files))\n\u001b[32m--> \u001b[39m\u001b[32m305\u001b[39m \u001b[38;5;28;43mself\u001b[39;49m\u001b[43m.\u001b[49m\u001b[43m_execute\u001b[49m\u001b[43m(\u001b[49m\n\u001b[32m    306\u001b[39m \u001b[43m    \u001b[49m\u001b[43mCommand\u001b[49m\u001b[43m.\u001b[49m\u001b[43mSEND_KEYS_TO_ELEMENT\u001b[49m\u001b[43m,\u001b[49m\u001b[43m \u001b[49m\u001b[43m{\u001b[49m\u001b[33;43m\"\u001b[39;49m\u001b[33;43mtext\u001b[39;49m\u001b[33;43m\"\u001b[39;49m\u001b[43m:\u001b[49m\u001b[43m \u001b[49m\u001b[33;43m\"\u001b[39;49m\u001b[33;43m\"\u001b[39;49m\u001b[43m.\u001b[49m\u001b[43mjoin\u001b[49m\u001b[43m(\u001b[49m\u001b[43mkeys_to_typing\u001b[49m\u001b[43m(\u001b[49m\u001b[43mvalue\u001b[49m\u001b[43m)\u001b[49m\u001b[43m)\u001b[49m\u001b[43m,\u001b[49m\u001b[43m \u001b[49m\u001b[33;43m\"\u001b[39;49m\u001b[33;43mvalue\u001b[39;49m\u001b[33;43m\"\u001b[39;49m\u001b[43m:\u001b[49m\u001b[43m \u001b[49m\u001b[43mkeys_to_typing\u001b[49m\u001b[43m(\u001b[49m\u001b[43mvalue\u001b[49m\u001b[43m)\u001b[49m\u001b[43m}\u001b[49m\n\u001b[32m    307\u001b[39m \u001b[43m\u001b[49m\u001b[43m)\u001b[49m\n",
      "\u001b[36mFile \u001b[39m\u001b[32mc:\\Users\\Usuario\\AppData\\Local\\Programs\\Python\\Python312\\Lib\\site-packages\\selenium\\webdriver\\remote\\webelement.py:574\u001b[39m, in \u001b[36mWebElement._execute\u001b[39m\u001b[34m(self, command, params)\u001b[39m\n\u001b[32m    572\u001b[39m     params = {}\n\u001b[32m    573\u001b[39m params[\u001b[33m\"\u001b[39m\u001b[33mid\u001b[39m\u001b[33m\"\u001b[39m] = \u001b[38;5;28mself\u001b[39m._id\n\u001b[32m--> \u001b[39m\u001b[32m574\u001b[39m \u001b[38;5;28;01mreturn\u001b[39;00m \u001b[38;5;28;43mself\u001b[39;49m\u001b[43m.\u001b[49m\u001b[43m_parent\u001b[49m\u001b[43m.\u001b[49m\u001b[43mexecute\u001b[49m\u001b[43m(\u001b[49m\u001b[43mcommand\u001b[49m\u001b[43m,\u001b[49m\u001b[43m \u001b[49m\u001b[43mparams\u001b[49m\u001b[43m)\u001b[49m\n",
      "\u001b[36mFile \u001b[39m\u001b[32mc:\\Users\\Usuario\\AppData\\Local\\Programs\\Python\\Python312\\Lib\\site-packages\\selenium\\webdriver\\remote\\webdriver.py:447\u001b[39m, in \u001b[36mWebDriver.execute\u001b[39m\u001b[34m(self, driver_command, params)\u001b[39m\n\u001b[32m    445\u001b[39m response = \u001b[38;5;28mself\u001b[39m.command_executor.execute(driver_command, params)\n\u001b[32m    446\u001b[39m \u001b[38;5;28;01mif\u001b[39;00m response:\n\u001b[32m--> \u001b[39m\u001b[32m447\u001b[39m     \u001b[38;5;28;43mself\u001b[39;49m\u001b[43m.\u001b[49m\u001b[43merror_handler\u001b[49m\u001b[43m.\u001b[49m\u001b[43mcheck_response\u001b[49m\u001b[43m(\u001b[49m\u001b[43mresponse\u001b[49m\u001b[43m)\u001b[49m\n\u001b[32m    448\u001b[39m     response[\u001b[33m\"\u001b[39m\u001b[33mvalue\u001b[39m\u001b[33m\"\u001b[39m] = \u001b[38;5;28mself\u001b[39m._unwrap_value(response.get(\u001b[33m\"\u001b[39m\u001b[33mvalue\u001b[39m\u001b[33m\"\u001b[39m, \u001b[38;5;28;01mNone\u001b[39;00m))\n\u001b[32m    449\u001b[39m     \u001b[38;5;28;01mreturn\u001b[39;00m response\n",
      "\u001b[36mFile \u001b[39m\u001b[32mc:\\Users\\Usuario\\AppData\\Local\\Programs\\Python\\Python312\\Lib\\site-packages\\selenium\\webdriver\\remote\\errorhandler.py:232\u001b[39m, in \u001b[36mErrorHandler.check_response\u001b[39m\u001b[34m(self, response)\u001b[39m\n\u001b[32m    230\u001b[39m         alert_text = value[\u001b[33m\"\u001b[39m\u001b[33malert\u001b[39m\u001b[33m\"\u001b[39m].get(\u001b[33m\"\u001b[39m\u001b[33mtext\u001b[39m\u001b[33m\"\u001b[39m)\n\u001b[32m    231\u001b[39m     \u001b[38;5;28;01mraise\u001b[39;00m exception_class(message, screen, stacktrace, alert_text)  \u001b[38;5;66;03m# type: ignore[call-arg]  # mypy is not smart enough here\u001b[39;00m\n\u001b[32m--> \u001b[39m\u001b[32m232\u001b[39m \u001b[38;5;28;01mraise\u001b[39;00m exception_class(message, screen, stacktrace)\n",
      "\u001b[31mInvalidSessionIdException\u001b[39m: Message: invalid session id: session deleted as the browser has closed the connection\nfrom disconnected: unable to send message to renderer\n  (Session info: chrome=138.0.7204.169)\nStacktrace:\n\tGetHandleVerifier [0x0x7ff6a523e415+77285]\n\tGetHandleVerifier [0x0x7ff6a523e470+77376]\n\t(No symbol) [0x0x7ff6a5009a6a]\n\t(No symbol) [0x0x7ff6a4ff6311]\n\t(No symbol) [0x0x7ff6a4ff627c]\n\t(No symbol) [0x0x7ff6a4ff4a0c]\n\t(No symbol) [0x0x7ff6a4ff5807]\n\t(No symbol) [0x0x7ff6a5018598]\n\t(No symbol) [0x0x7ff6a50a449e]\n\t(No symbol) [0x0x7ff6a5059a47]\n\t(No symbol) [0x0x7ff6a5057867]\n\t(No symbol) [0x0x7ff6a508860a]\n\t(No symbol) [0x0x7ff6a5052d06]\n\t(No symbol) [0x0x7ff6a5088820]\n\t(No symbol) [0x0x7ff6a50b087f]\n\t(No symbol) [0x0x7ff6a50883e3]\n\t(No symbol) [0x0x7ff6a5051521]\n\t(No symbol) [0x0x7ff6a50522b3]\n\tGetHandleVerifier [0x0x7ff6a5521efd+3107021]\n\tGetHandleVerifier [0x0x7ff6a551c29d+3083373]\n\tGetHandleVerifier [0x0x7ff6a553bedd+3213485]\n\tGetHandleVerifier [0x0x7ff6a525884e+184862]\n\tGetHandleVerifier [0x0x7ff6a526055f+216879]\n\tGetHandleVerifier [0x0x7ff6a5247084+113236]\n\tGetHandleVerifier [0x0x7ff6a5247239+113673]\n\tGetHandleVerifier [0x0x7ff6a522e298+11368]\n\tBaseThreadInitThunk [0x0x7ffa2ab97374+20]\n\tRtlUserThreadStart [0x0x7ffa2c55cc91+33]\n"
     ]
    }
   ],
   "source": [
    "# nomes das colunas da tabela\n",
    "#Cliente\tCPF/CNPJ\tCEP\tEndereço\tBairro\tMunicipio\tUF\tInscricao Estadual\tDescrição\tQuantidade\tValor Unitario\tValor Total\n",
    "\n",
    "# para cada linha dentro da linha dentro da tabela\n",
    "for linha in tabela.index:\n",
    "    # preencher dados de nota fiscal    \n",
    "        #nome/razao social\n",
    "    navegador.find_element(By.NAME,'nome').send_keys(tabela.loc[linha, \"Cliente\"])\n",
    "\n",
    "    # endereco\n",
    "    navegador.find_element(By.NAME,'endereco').send_keys(tabela.loc[linha, \"Endereço\"])\n",
    "\n",
    "    # bairro\n",
    "    navegador.find_element(By.NAME,'bairro').send_keys(tabela.loc[linha, \"Bairro\"])\n",
    "\n",
    "    # municipio\n",
    "    navegador.find_element(By.NAME, 'municipio').send_keys(tabela.loc[linha, \"Municipio\"])\n",
    "\n",
    "    # cep\n",
    "    navegador.find_element(By.NAME, 'cep').send_keys(str(tabela.loc[linha, \"CEP\"])) # str passa o numero para string\n",
    "\n",
    "    # uf\n",
    "    navegador.find_element(By.NAME, 'uf').send_keys(tabela.loc[linha, \"UF\"])\n",
    "\n",
    "    # CFP/CNPJ\n",
    "    navegador.find_element(By.NAME, 'cnpj').send_keys(str(tabela.loc[linha, \"CPF/CNPJ\"]))\n",
    "\n",
    "    # Incricao Estadual\n",
    "    navegador.find_element(By.NAME, 'inscricao').send_keys(str(tabela.loc[linha, \"Inscricao Estadual\"]))\n",
    "\n",
    "    # descricao\n",
    "    texto = tabela.loc[linha, \"Descrição\"]\n",
    "    navegador.find_element(By.NAME, 'descricao').send_keys(texto)\n",
    "\n",
    "    # quantidade\n",
    "    navegador.find_element(By.NAME, 'quantidade').send_keys(str(tabela.loc[linha, \"Quantidade\"]))\n",
    "\n",
    "    # valor unitario\n",
    "    navegador.find_element(By.NAME, 'valor_unitario').send_keys(str(tabela.loc[linha, \"Valor Unitario\"]))\n",
    "\n",
    "    # valor total\n",
    "    navegador.find_element(By.NAME, 'total').send_keys(str(tabela.loc[linha, \"Valor Total\"]))\n",
    "\n",
    "    # recarregar a pagina para limpar formulario\n",
    "    navegador.refresh()\n"
   ]
  },
  {
   "cell_type": "code",
   "execution_count": null,
   "id": "e5fac22c",
   "metadata": {},
   "outputs": [],
   "source": [
    "#mostra as opcoes do by\n",
    "# By."
   ]
  },
  {
   "cell_type": "code",
   "execution_count": null,
   "id": "49072692",
   "metadata": {},
   "outputs": [],
   "source": [
    "# clicar no botão  emitir nota fiscal\n",
    "navegador.find_element(By.CLASS_NAME, 'registerbtn').click()"
   ]
  },
  {
   "cell_type": "code",
   "execution_count": null,
   "id": "b5c55a45",
   "metadata": {},
   "outputs": [],
   "source": [
    "# fechar o navegador\n",
    "navegador.quit()"
   ]
  }
 ],
 "metadata": {
  "kernelspec": {
   "display_name": "Python 3",
   "language": "python",
   "name": "python3"
  },
  "language_info": {
   "codemirror_mode": {
    "name": "ipython",
    "version": 3
   },
   "file_extension": ".py",
   "mimetype": "text/x-python",
   "name": "python",
   "nbconvert_exporter": "python",
   "pygments_lexer": "ipython3",
   "version": "3.12.7"
  }
 },
 "nbformat": 4,
 "nbformat_minor": 5
}
