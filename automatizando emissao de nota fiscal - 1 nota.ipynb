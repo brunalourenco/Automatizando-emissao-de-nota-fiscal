{
 "cells": [
  {
   "cell_type": "code",
   "execution_count": 1,
   "id": "68bcf6f8",
   "metadata": {},
   "outputs": [],
   "source": [
    "#imports\n",
    "from selenium import webdriver\n",
    "from selenium.webdriver.chrome.service import Service\n",
    "from webdriver_manager.chrome import ChromeDriverManager\n",
    "from selenium.webdriver.common.by import By\n",
    "import os\n",
    "\n",
    "options= webdriver.ChromeOptions()\n",
    "options.add_experimental_option(\"prefs\", {\n",
    "    \"download.default_directory\":r\"C:\\Users\\Usuario\\Downloads\",\n",
    "    \"download.prompt_for_download\": False,\n",
    "    \"download.directory_upgrade\": True,\n",
    "    \"safebrowsing.enabled\": True\n",
    "})\n",
    "\n",
    "servico = Service(ChromeDriverManager().install())\n",
    "navegador = webdriver.Chrome(service=servico, options=options)"
   ]
  },
  {
   "cell_type": "code",
   "execution_count": 2,
   "id": "07022bd7",
   "metadata": {},
   "outputs": [],
   "source": [
    "# PASSO A PASSO\n",
    "#  abrir login\n",
    "# preencher login e senha\n",
    "# clicar botão de fazer login\n",
    "# preencher dados de nota fiscal\n",
    "# clicar no botão  emitir nota fiscal"
   ]
  },
  {
   "cell_type": "code",
   "execution_count": 3,
   "id": "0ed3897c",
   "metadata": {},
   "outputs": [],
   "source": [
    "#  abrir login\n",
    "\n",
    "# se fosse da web\n",
    "#navegador.get(\"http://www.google.com.br\")\n",
    "\n",
    "#importando arquivo de pasta do pc\n",
    "import os\n",
    "caminho = os.getcwd()\n",
    "arquivo = caminho + r\"\\login.html \"\n",
    "navegador.get(arquivo)\n"
   ]
  },
  {
   "cell_type": "code",
   "execution_count": 4,
   "id": "2c5f1a7f",
   "metadata": {},
   "outputs": [],
   "source": [
    "# preencher login e senha\n",
    "\n",
    "navegador.find_element(By.XPATH,'/html/body/div/form/input[1]').send_keys('teste@gmail.com')\n",
    "navegador.find_element(By.XPATH, '/html/body/div/form/input[2]').send_keys('12356a')\n",
    "# clicar botão de fazer login\n",
    "navegador.find_element(By.XPATH,'/html/body/div/form/button').click()"
   ]
  },
  {
   "cell_type": "code",
   "execution_count": 5,
   "id": "65db1389",
   "metadata": {},
   "outputs": [],
   "source": [
    "# preencher dados de nota fiscal\n",
    "#nome/razao social\n",
    "navegador.find_element(By.NAME,'nome').send_keys('Empresa Xpto')\n",
    "\n",
    "# endereco\n",
    "navegador.find_element(By.NAME,'endereco').send_keys('Rua Um, 250')\n",
    "\n",
    "# bairro\n",
    "navegador.find_element(By.NAME,'bairro').send_keys('Rosario')\n",
    "\n",
    "# municipio\n",
    "navegador.find_element(By.NAME, 'municipio').send_keys('Rio Acima')\n",
    "\n",
    "# cep\n",
    "navegador.find_element(By.NAME, 'cep').send_keys('34300-000')\n",
    "\n",
    "# uf\n",
    "navegador.find_element(By.NAME, 'uf').send_keys('MG')"
   ]
  },
  {
   "cell_type": "code",
   "execution_count": 6,
   "id": "697ad36f",
   "metadata": {},
   "outputs": [],
   "source": [
    "# CFP/CNPJ\n",
    "navegador.find_element(By.NAME, 'cnpj').send_keys('MG')\n",
    "\n",
    "# Incricao Estadual\n",
    "navegador.find_element(By.NAME, 'inscricao').send_keys('MG')\n",
    "\n",
    "# descricao\n",
    "texto = 'Valor referente aos servicos de treinamento prestados'\n",
    "navegador.find_element(By.NAME, 'descricao').send_keys(texto)\n",
    "\n",
    "# quantidade\n",
    "navegador.find_element(By.NAME, 'quantidade').send_keys('10')\n",
    "\n",
    "# valor unitario\n",
    "navegador.find_element(By.NAME, 'valor_unitario').send_keys('150')\n",
    "\n",
    "# valor total\n",
    "navegador.find_element(By.NAME, 'total').send_keys('1500')"
   ]
  },
  {
   "cell_type": "code",
   "execution_count": 7,
   "id": "e5fac22c",
   "metadata": {},
   "outputs": [],
   "source": [
    "#mostra as opcoes do by\n",
    "# By."
   ]
  },
  {
   "cell_type": "code",
   "execution_count": 8,
   "id": "49072692",
   "metadata": {},
   "outputs": [],
   "source": [
    "# clicar no botão  emitir nota fiscal\n",
    "navegador.find_element(By.CLASS_NAME, 'registerbtn').click()"
   ]
  }
 ],
 "metadata": {
  "kernelspec": {
   "display_name": "Python 3",
   "language": "python",
   "name": "python3"
  },
  "language_info": {
   "codemirror_mode": {
    "name": "ipython",
    "version": 3
   },
   "file_extension": ".py",
   "mimetype": "text/x-python",
   "name": "python",
   "nbconvert_exporter": "python",
   "pygments_lexer": "ipython3",
   "version": "3.12.7"
  }
 },
 "nbformat": 4,
 "nbformat_minor": 5
}
